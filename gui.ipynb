{
 "cells": [
  {
   "cell_type": "code",
   "execution_count": 27,
   "metadata": {},
   "outputs": [],
   "source": [
    "import os\n",
    "from tkinter import *\n",
    "from tkinter.ttk import *\n",
    "from tkinter import filedialog\n",
    "# from ipwidgets.widgets "
   ]
  },
  {
   "cell_type": "code",
   "execution_count": 28,
   "metadata": {},
   "outputs": [],
   "source": [
    "from matplotlib.backends.backend_tkagg import (FigureCanvasTkAgg,NavigationToolbar2Tk)\n",
    "from matplotlib.backend_bases import key_press_handler\n",
    "from matplotlib.figure import Figure\n",
    "import numpy as np "
   ]
  },
  {
   "cell_type": "code",
   "execution_count": 15,
   "metadata": {},
   "outputs": [],
   "source": [
    "root = Tk()\n",
    "root.title('Program Diarisasi Pembicara')\n",
    "Input = Entry(root, width=50, borderwidth=3)\n",
    "Input.grid(row=0, column=1)\n",
    "# Input.insert(0, 'Type Your Name Here')\n",
    "HasilFrame = LabelFrame(root, text='HASIL', padx=100, pady=20)\n",
    "HasilFrame.grid(row=6, column=1)\n",
    "\n",
    "def myClick() :\n",
    "  myLabel = Label(root, text='Your Name Is '+Input.get(), fg='green')\n",
    "  myLabel.grid(row=4, column=3)\n",
    "\n",
    "\n",
    "myLabel1 = Label(root, text='Please Type Your Name').grid(row=0, column=0) #Creating Label Widget\n",
    "myLabel2 = Label(root, text='My name is Angky').grid(row=1, column=0)\n",
    "myButton = Button(HasilFrame,text='Choose File', padx=20, pady=10, command=myClick, bg='blue')\n",
    "myButton.grid(row=2,column=1)\n",
    "# QuitButton = Button(root, text='X' , command=root.quit)\n",
    "# QuitButton.grid(row=6,column=2)\n",
    "root.mainloop()"
   ]
  },
  {
   "cell_type": "code",
   "execution_count": 10,
   "metadata": {},
   "outputs": [
    {
     "name": "stderr",
     "output_type": "stream",
     "text": [
      "Exception in Tkinter callback\n",
      "Traceback (most recent call last):\n",
      "  File \"c:\\ProgramData\\Anaconda3\\lib\\tkinter\\__init__.py\", line 1892, in __call__\n",
      "    return self.func(*args)\n",
      "  File \"C:\\Users\\kiang\\AppData\\Local\\Temp/ipykernel_1716/3678355130.py\", line 16, in openFile\n",
      "    pygame.mixer.music.load(root1.filename)\n",
      "pygame.error: Unknown WAVE format\n"
     ]
    }
   ],
   "source": [
    "root1 = Tk()\n",
    "pygame.init()\n",
    "root1.title('Program Diarisasi Pembicara')\n",
    "root1.geometry(\"500x500\")\n",
    "root1.resizable(FALSE, False)\n",
    "entry_text = StringVar()\n",
    "entry = Entry( root1, textvariable=entry_text , width=50)\n",
    "entry_text.set( \"No File Choosen\" )\n",
    "masukan = ''\n",
    "# FileChosen = Entry(root1, width=100)\n",
    "# FileChosen.set('No File Chosen')\n",
    "entry.grid(row=1, column=0)\n",
    "def openFile():\n",
    "  root1.filename = filedialog.askopenfilename(initialdir=\"D:/\", title='Choose Your WAV', filetypes=\n",
    "    ((\"wav files\", \"*.wav\"), (\"all files\", \"*.*\")))\n",
    "  pygame.mixer.music.load(root1.filename)\n",
    "  a = pygame.mixer.Sound(root1.filename)\n",
    "  masukan=root1.filename\n",
    "  entry_text.set(a.get_length)\n",
    "  # os.system(root1.filename) play music\n",
    "  \n",
    "def quitProgram() : \n",
    "  root1.quit()\n",
    "  root1.destroy()\n",
    "\n",
    "myLabel1 = Label(root1, text='   ').grid(row=0, column=1)\n",
    "btn = Button(root1, text='Open File', command=openFile).grid(row=1, column=2)\n",
    "btn_close = Button(root1, text='close', command=quitProgram).grid(row=2,column=2)\n",
    "root1.mainloop()"
   ]
  },
  {
   "cell_type": "code",
   "execution_count": 29,
   "metadata": {},
   "outputs": [],
   "source": [
    "#WIndow for plotting\n",
    "\n",
    "root2 = Tk()\n",
    "root2.wm_title(\"embedding in TK\")\n",
    "\n",
    "fig = Figure(figsize=(5,4), dpi=100)\n",
    "t = np.arange(0,3,.01)\n",
    "fig.add_subplot(111).plot(t, 2*np.sin(2*np.pi*t))\n",
    "canvas = FigureCanvasTkAgg(fig, master=root2) #tk.drwatingArea\n",
    "canvas.draw()\n",
    "canvas.get_tk_widget().pack(side=TOP, fill=BOTH, expand=1)\n",
    "toolbar = NavigationToolbar2Tk(canvas,root2)\n",
    "toolbar.update()\n",
    "canvas.get_tk_widget().pack(side=TOP, fill=BOTH, expand=1)\n",
    "\n",
    "def on_key(event):\n",
    "  print('You PRessed{}'.format(event.key))\n",
    "  key_press_handler(event,canvas, toolbar)\n",
    "\n",
    "def quitProgram() : \n",
    "  root2.quit()\n",
    "  root2.destroy()\n",
    "canvas.mpl_connect(\"key_press_event\", on_key)\n",
    "\n",
    "btn_back = Button(master=root2, text='Quit', command=quitProgram)\n",
    "btn_back.pack(side=BOTTOM)\n",
    "\n",
    "root2.mainloop()\n"
   ]
  },
  {
   "cell_type": "code",
   "execution_count": 34,
   "metadata": {},
   "outputs": [],
   "source": [
    "import time \n",
    "\n",
    "def show():\n",
    "  print()\n",
    "  \n",
    "root3 = Tk()\n",
    "\n",
    "bar = Progressbar(root3, orient=HORIZONTAL, length=300)\n",
    "bar.pack(pady=10)\n",
    "btn3 = Button(root3, text='show', command=show).pack()\n",
    "\n",
    "root3.mainloop()"
   ]
  },
  {
   "cell_type": "code",
   "execution_count": 26,
   "metadata": {},
   "outputs": [
    {
     "name": "stdout",
     "output_type": "stream",
     "text": [
      "Proses\n",
      "Proses\n",
      "Proses\n",
      "Proses\n"
     ]
    }
   ],
   "source": [
    "#Handling Duration\n",
    "\n",
    "import wave \n",
    "import contextlib\n",
    "import soundfile as sf\n",
    "root1 = Tk()\n",
    "root1.title('Program Diarisasi Pembicara')\n",
    "root1.geometry(\"500x500\")\n",
    "root1.resizable(FALSE, False)\n",
    "entry_text = StringVar()\n",
    "entry = Entry( root1, textvariable=entry_text , width=50)\n",
    "entry_text.set( \"No File Choosen\" )\n",
    "masukan = ''\n",
    "# FileChosen = Entry(root1, width=100)\n",
    "# FileChosen.set('No File Chosen')\n",
    "entry.grid(row=1, column=0)\n",
    "def openFile():\n",
    "  root1.filename = filedialog.askopenfilename(initialdir=\"D:/\", title='Choose Your WAV', filetypes=\n",
    "    ((\"wav files\", \"*.wav\"), (\"all files\", \"*.*\")))\n",
    "  masukan=root1.filename\n",
    "  fname = masukan \n",
    "  data,samplerate = sf.read(fname)\n",
    "  sf.write(fname, data, samplerate)\n",
    "  with contextlib.closing(wave.open(fname, 'r')) as f :\n",
    "    frames = f.getnframes()\n",
    "    rate = f.getframerate()\n",
    "    duration = frames / float(rate)\n",
    "  entry_text.set(duration)\n",
    "  # entry_text.set()\n",
    "  # pygame.mixer.music.load(root1.filename)\n",
    "  # a = pygame.mixer.Sound(root1.filename)\n",
    "  \n",
    "  # os.system(root1.filename) play music\n",
    "  \n",
    "def quitProgram() : \n",
    "  root1.quit()\n",
    "  root1.destroy()\n",
    "\n",
    "def processing():\n",
    "  print('Proses')\n",
    "\n",
    "\n",
    "myLabel1 = Label(root1, text='   ').grid(row=0, column=1)\n",
    "btn = Button(root1, text='Open File', command=openFile).grid(row=1, column=2)\n",
    "btn_close = Button(root1, text='close', command=quitProgram).grid(row=3,column=2)\n",
    "btn_process = Button(root1, text='Process', command=processing).grid(row=2,column=2)\n",
    "label_hasil = Label(root1, text='Hasil').grid(row=3,column=0)\n",
    "btn_hasil = Button(root1, text='Tampilkan Plot', command=processing).grid(row=4,column=0)\n",
    "root1.mainloop()"
   ]
  }
 ],
 "metadata": {
  "kernelspec": {
   "display_name": "Python 3.9.7 ('base')",
   "language": "python",
   "name": "python3"
  },
  "language_info": {
   "codemirror_mode": {
    "name": "ipython",
    "version": 3
   },
   "file_extension": ".py",
   "mimetype": "text/x-python",
   "name": "python",
   "nbconvert_exporter": "python",
   "pygments_lexer": "ipython3",
   "version": "3.9.7"
  },
  "orig_nbformat": 4,
  "vscode": {
   "interpreter": {
    "hash": "ad2bdc8ecc057115af97d19610ffacc2b4e99fae6737bb82f5d7fb13d2f2c186"
   }
  }
 },
 "nbformat": 4,
 "nbformat_minor": 2
}
